{
 "cells": [
  {
   "cell_type": "markdown",
   "metadata": {},
   "source": [
    "En este Notebook tienes toda la información necesaria para llevar a cabo los siguientes ejercicios:\n",
    "    \n",
    "- __Ejercicio 1__: ( 5%) método pandas para ver un análisis estadístico descriptivo \n",
    "- __Ejercicio 2__: (10%) Función `extraer_altura`\n",
    "- __Ejercicio 3__: (10%) Función `extraer_peso`\n",
    "- __Ejercicio 4__: (25%) Función `clasificacion_oms`\n",
    "- __Ejercicio 5__: (25%) Función `extraer_datos_debut`\n",
    "- __Ejercicio 6__: ( 5%) Goles en clubes\n",
    "- __Ejercicio 7__: ( 5%) Cantidad de imc calculados (`num_imc_calculados`)\n",
    "- __Ejercicio 8__: ( 5%) Porcentaje jugadores en cada categoria de la OMS\n",
    "- __Ejercicio 9__: ( 5%) Jugador más delgado y jugador más obeso\n",
    "- __Ejercicio 10__:( 5%) Jugadores que juegan en el equipo en el que debutaron\n",
    "\n",
    "\n",
    "\n",
    "\n",
    "- __Ejercicio 11__: (Extra) Realizar una visualizacion de la relacion entre IMC y la posición del jugador en el equipo"
   ]
  },
  {
   "cell_type": "markdown",
   "metadata": {},
   "source": [
    "## Pasos previos\n",
    "\n",
    "- Importar las librerías necesarias\n",
    "- Cargar en una variable llamada `raw_data` el contenido del fichero que se proporciona `my_players_info.csv`\n",
    "- Se debe usar una ruta relativa en la llamada al fichero `my_players_info.csv`. \n",
    "\n",
    "Los pasos previos no sirven para puntuar pero pueden penalizar si no se usa una ruta relativa y si el fichero de datos no está en la ruta relativa que se utiliza (Es decir, el profesor tiene que poder ejecutarlo en su ordenador sin cambiar la ruta y sin incorporar el fichero mencionado)"
   ]
  },
  {
   "cell_type": "code",
   "execution_count": null,
   "metadata": {},
   "outputs": [],
   "source": [
    "import pandas as pd\n"
   ]
  },
  {
   "cell_type": "code",
   "execution_count": null,
   "metadata": {},
   "outputs": [],
   "source": [
    "# Crea una variable llamada raw_data de tipo DataFrame que tenga \n",
    "# a información del fichero my_players_info.csv\n",
    "\n",
    "raw_data = "
   ]
  },
  {
   "cell_type": "code",
   "execution_count": null,
   "metadata": {},
   "outputs": [],
   "source": [
    "raw_data = "
   ]
  },
  {
   "cell_type": "markdown",
   "metadata": {},
   "source": [
    "## Ejercicio 1: \n",
    "Valoración 5%\n",
    "### Usa el método pandas para ver un análisis estadístico descriptivo del DataFrame\n",
    "\n",
    "Este método permite, en una sola linea, ver una descripción estadística del DataFrame. Esta descripción incluye:\n",
    " - Número total de elementos o filas\n",
    " - Tendencia central (excluyendo valores NaN o nulos)\n",
    " - Desviación estándar (excluyendo valores NaN o nulos)\n",
    " - Valor mínimo (excluyendo valores NaN o nulos)\n",
    " - Valor máximo (excluyendo valores NaN o nulos)"
   ]
  },
  {
   "cell_type": "code",
   "execution_count": null,
   "metadata": {},
   "outputs": [],
   "source": [
    "# Escribe aqui tu código "
   ]
  },
  {
   "cell_type": "markdown",
   "metadata": {},
   "source": [
    "## Ejercicio 2: \n",
    "Valoración 10%\n",
    "### Función para extraer la altura\n",
    "\n",
    "Esta función va a consistir en transformar la columna 'Altura' a formato float64\n",
    "\n",
    "Intrucciones:\n",
    " - La función se llama **extraer_altura**\n",
    " - La función recibe como parámetro un DataFrame y debe devolver un DataFrame\n",
    " - El DataFrame de entrada contiene una columna llamada 'Altura' que es de tipo object\n",
    " - El DataFrame de salida contiene una columna llamada 'Altura' de tipo float64\n",
    " - La columna 'Altura' de tipo float64 debe mantener los valores nulos que mantenía en el momento de entrar en la función. "
   ]
  },
  {
   "cell_type": "code",
   "execution_count": null,
   "metadata": {},
   "outputs": [],
   "source": [
    "def extraer_altura(df):\n",
    "    # Sustituye esta línea por las líneas de código que necesites para que \n",
    "    # la función cumpla los requisitos mencionados\n",
    "    \n",
    "    # No modifiques las siguientes lineas \n",
    "    assert(isinstance(df, pd.DataFrame))\n",
    "    return df"
   ]
  },
  {
   "cell_type": "markdown",
   "metadata": {},
   "source": [
    "## Ejercicio 3: \n",
    "Valoración 10%\n",
    "### Función para extraer el peso\n",
    "\n",
    "Esta función va a consistir en transformar la columna 'Peso' a formato float64\n",
    "\n",
    "Intrucciones:\n",
    " - La función se llama **extraer_peso**\n",
    " - La función recibe como parámetro un DataFrame y debe devolver un DataFrame\n",
    " - El DataFrame de entrada contiene una columna llamada 'Peso' que es de tipo object\n",
    " - El DataFrame de salida contiene una columna llamada 'Peso' de tipo float64\n",
    " - La columna 'Peso' de tipo float64 debe mantener los valores nulos que mantenía en el momento de entrar en la función\n"
   ]
  },
  {
   "cell_type": "code",
   "execution_count": null,
   "metadata": {},
   "outputs": [],
   "source": [
    "def extraer_peso(df):\n",
    "    # Sustituye esta línea por las líneas de código que necesites para que \n",
    "    # la función cumpla los requisitos anteriores\n",
    "    \n",
    "    # No modifiques las siguientes lineas \n",
    "    assert(isinstance(df, pd.DataFrame))\n",
    "    return df"
   ]
  },
  {
   "cell_type": "markdown",
   "metadata": {},
   "source": [
    "## Ejercicio 4: \n",
    "Valoracion 20%\n",
    "### Calcular la categoría de la OMS usando el Indice de masa Corporal (IMC)\n",
    "\n",
    "Formula para el cálculo de Indice de Masa Corporal IMC =  masa(kg) / estatura(m) * estatura(m)\n",
    "\n",
    "\n",
    "Intrucciones:\n",
    " - La función se llama **clasificacion_oms**\n",
    " - La función recibe como parámetro un DataFrame y debe devolver un DataFrame\n",
    " - El DataFrame de entrada contiene, entre otras, dos columnas llamadas 'Peso' y 'Altura' que son de tipo float64 \n",
    " - El DataFrame de salida contiene las mismas columnas que el DataFrame de entrada y además añade dos columnas nuevas: 'IMC' y 'clasificacoin_oms':\n",
    "     - La columna 'IMC' ,de tipo float64, que tiene el cálculo del Indice de Masa Corportal\n",
    "     - La columna 'clasificacion_oms', de tipo str o factor, que tiene los siguientes valores:\n",
    "         - \"delgadez\" cuando IMC < 18.5\n",
    "         - \"normal\" cuadno IMC >=18.50 y IMC < 25.0\n",
    "         - \"sobrepeso\" cuando IMC >=25 y IMC < 30\n",
    "         - \"obeso\" cuadno IMC >= 30 \n",
    "     - La columna 'clasificacoin_oms' solo puede tener como valor \"delgadez\", \"normal\", \"sobrepeso\", \"obeso\" y nulo. \n",
    "\n"
   ]
  },
  {
   "cell_type": "code",
   "execution_count": null,
   "metadata": {},
   "outputs": [],
   "source": [
    "raw_data = pd.read_csv(path, sep=\";\" )\n",
    "df_4 = extraer_altura(raw_data) # Esta linea es obligatoria\n",
    "df_4 = extraer_peso(df_4) # Esta linea es obligatoria\n",
    "def clasificacion_oms(df):\n",
    "\n",
    "    # Sustituye esta línea por las líneas de código que necesites para que \n",
    "    # la función cumpla los requisitos anteriores\n",
    "    \n",
    "    # No modifiques las siguientes lineas \n",
    "    \n",
    "    assert(isinstance(df, pd.DataFrame))\n",
    "    return df \n"
   ]
  },
  {
   "cell_type": "markdown",
   "metadata": {},
   "source": [
    "## Ejercicio 5:\n",
    "Valoración 25%\n",
    "### Función para extraer el club en el que debutó y el año de debut\n",
    "Esta función va a consistir en extraer y unificar la información del debut del jugador. \n",
    "\n",
    "El DataFrame tiene información del Debut en las columnas 'Debut' y 'Debut deportivo'. Aprovecha para ver el contenido de estas dos columnas. Verás que unos jugadores tienen información sobre su debut únicamente en la columna 'Debut', otros jugadores tienen solo información en la columna 'Debut deportivo' y otros jugadores tienen información sobre su debut deportivo en ambas columnas ('Debut' y 'Debut deportivo')\n",
    "\n",
    "La columna 'Debut' tiene la fecha del debut del jugador en formato \"< dia > de < mes > de < año >\"\n",
    "La columna 'Debut deportivo' tiene la información sin unificar pues ocurren varios casos:\n",
    "    * Caso 1 la columna tiene \"< año > (<club_en_el_que_debutó>)\"\n",
    "    * Caso 2 la columna tiene \"< dia > de < mes > de < año >(<club_en_el_que_debutó>)\"\n",
    "En cualquier caso de la columna 'Debut deportivo' solo extraremos el año y el club en el que debutó. \n",
    "Ejemplo:"
   ]
  },
  {
   "cell_type": "code",
   "execution_count": null,
   "metadata": {},
   "outputs": [],
   "source": [
    "raw_data[['Debut','Debut deportivo']].tail(3)"
   ]
  },
  {
   "cell_type": "markdown",
   "metadata": {},
   "source": [
    "Ejemplo: \n",
    "```    \n",
    "Estado actual\n",
    "Debut                  Debut deportivo                     \n",
    "27 de mayo de 2006 \t   2006(UD Vecindario)              \n",
    "21 de agosto de 2010   11 de agosto de 2010(Portuguesa)\n",
    "21 de agosto de 2010   NaN \n",
    "NaN                    NaN \n",
    "\n",
    "OBJETIVO a conseguir\n",
    "\n",
    "fecha_debut    club_debut    \n",
    "2006           UD Vecindario\n",
    "2010           Portuguesa\n",
    "2014           Atlético de Madrid \"B\"\n",
    "2010           NaN\n",
    "Nan            NaN    \n",
    "```\n",
    "\n",
    "Separamos la información del año de debut y del club de debut para generar dos nuevas columnas. \n",
    "\n",
    "Si se da el caso que 'Debut' tiene un año diferente al de 'Debut deportivo' nos quedaremos con el año indicado en 'Debut deportivo' \n",
    "\n",
    "Intrucciones:\n",
    " - La función se llama **extraer_datos_debut**\n",
    "    \n",
    " - La función recibe como parámetro un DataFrame y debe devolver un DataFrame\n",
    "    \n",
    " - El DataFrame de entrada contiene una columna llamada 'Debut' y una columna llamada 'Debut deportivo' que son de tipo object\n",
    "    \n",
    " - El DataFrame de salida contiene el mismo número de columnas que el DataFrame de entrada porque **añade dos columnas nuevas**: `fecha_debut` de tipo int32 y `club_debut` de tipo object (que equivale a str) y **elimina dos columnas**: `Debut` y `Debut deportivo`\n",
    "    \n",
    " - La columna 'fecha_debut' solo tendrá valores nulos cuando las columnas 'Debut' y 'Debut deportivo' tengan valores nulos\n",
    "    \n",
    " - La columna 'club_debut' tendrá valores nulos cuando 'Debut deportivo' tenga valores nulos \n",
    "    \n",
    "\n",
    " "
   ]
  },
  {
   "cell_type": "code",
   "execution_count": null,
   "metadata": {},
   "outputs": [],
   "source": [
    "def extraer_datos_debut(df):\n",
    "    # Sustituye esta línea por las líneas de código que necesites para que \n",
    "    # la función cumpla los requisitos anteriores\n",
    "    \n",
    "    # No modifiques las siguientes lineas \n",
    "    assert(isinstance(df, pd.DataFrame))\n",
    "    return df    "
   ]
  },
  {
   "cell_type": "markdown",
   "metadata": {},
   "source": [
    "## Ejercicio 6: \n",
    "Valoración 5%\n",
    "### Función para los goles en clubes\n",
    "\n",
    "La información de los Goles totales en clubes está almacenada en la columna 'Goles en clubes', que hay que transfomar en un float64\n",
    "\n",
    "Intrucciones:\n",
    " - Usa la función `to_numeric` para extraer el valor numérico de la columna 'Goles en clubes'\n",
    " - Ten en cuenta que si el parseo no es posible debe asignar NaN como valor. \n"
   ]
  },
  {
   "cell_type": "code",
   "execution_count": null,
   "metadata": {},
   "outputs": [],
   "source": [
    "raw_data['Golesen clubes'] = "
   ]
  },
  {
   "cell_type": "markdown",
   "metadata": {},
   "source": [
    "\n",
    "\n",
    "# Usando código python responde a las siguientes preguntas: \n",
    "\n",
    "## Ejercicio 7:\n",
    "valor 5%: \n",
    "\n",
    "Guarda en la variable `num_imc_calculados`el total de jugadores para los que se ha podido calcular el IMC\n"
   ]
  },
  {
   "cell_type": "code",
   "execution_count": null,
   "metadata": {},
   "outputs": [],
   "source": [
    "num_imc_calculados = "
   ]
  },
  {
   "cell_type": "markdown",
   "metadata": {},
   "source": [
    "## Ejercicio 8:\n",
    "valor 5%: \n",
    "        - Porcetaje de jugadores que se encuentran en peso tipo Delgadez\n",
    "        - Porcetaje de jugadores que se encuentran en peso tipo Normal\n",
    "        - Porcetaje de jugadores que se encuentran en peso tipo Sobrepeso\n",
    "        - Porcetaje de jugadores que se encuentran en peso tipo Obeso\n",
    "\n",
    "Es posible hacerlo en una linea de código "
   ]
  },
  {
   "cell_type": "code",
   "execution_count": null,
   "metadata": {},
   "outputs": [],
   "source": [
    "# Escribe aqui tu código "
   ]
  },
  {
   "cell_type": "markdown",
   "metadata": {},
   "source": [
    "## Ejercicio 9:\n",
    "valor 5%: \n",
    "\n",
    "Guarda en la variable `jugador_mas_delgado` el Nombre, Posición, IMC y Club del jugador cuyo IMC sea el menor de todos\n",
    "\n",
    "Guarda en la variable `jugador_mas_obeso` el Nombre, Posición, IMC y Club del jugador cuyo IMC sea el mayor de todos"
   ]
  },
  {
   "cell_type": "code",
   "execution_count": null,
   "metadata": {},
   "outputs": [],
   "source": [
    "# Termina la asignacion de la variable\n",
    "jugador_mas_delgado = "
   ]
  },
  {
   "cell_type": "code",
   "execution_count": null,
   "metadata": {},
   "outputs": [],
   "source": [
    "# Termina la asignacion de la variable\n",
    "jugador_mas_obeso = "
   ]
  },
  {
   "cell_type": "markdown",
   "metadata": {},
   "source": [
    "## Ejercicio 10:\n",
    "Valor 5%\n",
    "\n",
    "Guarda en la variable `df_debutantes` de tipo DataFrame la información sobre qué jugadores coincide el nombre del Club en el que juega y 'club_debut' (o club en el que debutaron). Es decir, los jugadores que aún juegen en el equipo en el que debutaron"
   ]
  },
  {
   "cell_type": "code",
   "execution_count": null,
   "metadata": {},
   "outputs": [],
   "source": [
    "# Termina la asignacion de la variable\n",
    "df_debutantes = "
   ]
  },
  {
   "cell_type": "markdown",
   "metadata": {},
   "source": [
    "## Ejercicio 11:\n",
    "Valor extra%\n",
    "\n",
    "#### Realizar una visualizacion que permita ver la relacion entre IMC y la posición del jugador en el equipo\n",
    "\n",
    "Es necesario que se categorize el nombre de la posición en la que juega el jugador\n",
    "\n",
    "Este ejercicio sirve solo para sumar y la cantidad dependerá de la calidad del trabajo realizado. "
   ]
  },
  {
   "cell_type": "code",
   "execution_count": null,
   "metadata": {},
   "outputs": [],
   "source": [
    "# Escribe aqui tu código "
   ]
  },
  {
   "cell_type": "code",
   "execution_count": null,
   "metadata": {},
   "outputs": [],
   "source": []
  }
 ],
 "metadata": {
  "kernelspec": {
   "display_name": "Python 3",
   "language": "python",
   "name": "python3"
  },
  "language_info": {
   "codemirror_mode": {
    "name": "ipython",
    "version": 3
   },
   "file_extension": ".py",
   "mimetype": "text/x-python",
   "name": "python",
   "nbconvert_exporter": "python",
   "pygments_lexer": "ipython3",
   "version": "3.7.4"
  }
 },
 "nbformat": 4,
 "nbformat_minor": 2
}
